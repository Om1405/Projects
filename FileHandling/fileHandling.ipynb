{
 "cells": [
  {
   "cell_type": "markdown",
   "metadata": {
    "id": "KEk36hiNTbfE"
   },
   "source": [
    "# Introduction\n",
    "Efficient management of product information is essential for the success of e-commerce businesses. This information enables informed decision-making and facilitates effective marketing strategies. File handling plays a key role in being able to manage such data, and Python allows us to handle various file formats which are used to store such data.\n",
    "\n",
    "In this project, we are going to learn how to load, modify, and save files of three popular file formats which are used in the industry to handle data. These formats are:\n",
    "\n",
    "- **CSV**: CSV or comma-separated value files come with the file suffix *.csv* and, as the name suggests, have data values separated by commas. Each data entry is placed on a new line, and typically, the first line tends to store the names of columns. In our dataset, a CSV file is used to store sales values for each product over 14 days.\n",
    "\n",
    "- **JSON**: JSON or JavaScript object notation files come with the file suffix *.json* and store data as key-value pairs, similar to dictionaries in Python. In our dataset, JSON files are used to store details such as product names, prices, and brands.\n",
    "\n",
    "- **TXT**: TXT or text files come with the file suffix *.txt* and generally useful for storing single variables like strings or integers. In our dataset, TXT files are used to store descriptions of products."
   ]
  },
  {
   "cell_type": "markdown",
   "metadata": {
    "id": "_bIkNbC2z8oL"
   },
   "source": [
    "# Problem Statement\n",
    "The goal is to read data from popular file formats (.csv, .txt, .json), to perform operations on this data, and to finally save this modified data into the original file formats."
   ]
  },
  {
   "cell_type": "markdown",
   "metadata": {
    "id": "hJ1m6tWtIhXS"
   },
   "source": [
    "# Data Description\n",
    "The dataset for this project has been provided in the *mainfolder.zip* file. It contains data about products for which the unique ID provided is the stock keeping unit or SKU for short. The ZIP file contains a structured collection of sales data and product information organized into a main folder with three key components:\n",
    "\n",
    "- **Sales Data** (*sales_data.csv*): A CSV file that includes sales data for various products over a 14-day period. Each row corresponds to a different product, identified by a *Product_SKU*. The columns *Day1* through *Day14* represent the sales figures for each consecutive day.\n",
    "\n",
    "- **Product Descriptions** (*product_descriptions* folder): This folder contains text files, each corresponding to a specific product identified by the SKU in the filename (e.g., *description_AISJDKFJW93NJ.txt*). These files provide descriptive information about the products.\n",
    "\n",
    "- **Product Details** (*product_details* folder): This folder includes JSON files, again with filenames corresponding to product SKUs (e.g., *details_AISJDKFJW93NJ.json*). These files contain detailed attributes of the products, such as specifications, category, pricing, etc.\n",
    "\n",
    "This dataset is suitable for analyzing daily sales performance of products, supplemented with detailed product information and descriptions to allow for a comprehensive analysis of sales trends in relation to product attributes and descriptions."
   ]
  },
  {
   "cell_type": "markdown",
   "metadata": {
    "id": "TCi_8EQ_SKh2"
   },
   "source": [
    "# Outline\n",
    "The overall objective of this project is to create a system for managing product information in an e-commerce platform. The different stages involved in the process are outlined below:\n",
    "\n",
    "- Stage 1 - Set up project and load data\n",
    "    - Task 1 - Import required modules\n",
    "    - Task 2 - Load the data\n",
    "- Stage 2 - Create or update data\n",
    "    - Task 3 - Add or update sales data\n",
    "    - Task 4 - Add or update product details\n",
    "    - Task 5 - Add or update product description\n",
    "    - Task 6 - Update function\n",
    "- Stage 3 - Save data to disk\n",
    "    - Task 7 - Save data to disk"
   ]
  },
  {
   "cell_type": "markdown",
   "metadata": {
    "id": "nSDjItPDapX4"
   },
   "source": [
    "# Stage 1 - Set up project and load data\n",
    "In this stage, you will set up the environment for this assignment by loading the required modules and files. You will explore the files by displaying their content. You will achieve all of this by completing the following tasks:\n",
    "- Task 1 - Import required modules\n",
    "- Task 2 - Load the data"
   ]
  },
  {
   "cell_type": "markdown",
   "metadata": {
    "id": "7fwAly7Kc9ei"
   },
   "source": [
    "## Task 1 - Import required modules"
   ]
  },
  {
   "cell_type": "markdown",
   "metadata": {
    "id": "mWz3KDiuotgp"
   },
   "source": [
    "### Description\n",
    "In this task, you will import all the necessary modules and packages required for performing various operations in the project."
   ]
  },
  {
   "cell_type": "markdown",
   "metadata": {
    "id": "1IfJUOrG0JBZ"
   },
   "source": [
    "### Requirements\n",
    "Write code to import packages:\n",
    "\n",
    "- For navigating through files stored on your device or on Google Colaboratory\n",
    "- For working with JSON files\n",
    "- For working with CSV files"
   ]
  },
  {
   "cell_type": "markdown",
   "metadata": {
    "id": "3hjXLR-lwERP"
   },
   "source": [
    "First, import the required packages."
   ]
  },
  {
   "cell_type": "code",
   "execution_count": 6,
   "metadata": {
    "id": "uKKJxfEj6o1C"
   },
   "outputs": [],
   "source": [
    "# Use this cell to import all the required packages and methods\n",
    "\n",
    "# Import package for navigating through files stored on your device/on Google Colaboratory\n",
    "import os\n",
    "# Import package for working with JSON files\n",
    "import json\n",
    "# Import package for working with CSV files\n",
    "import csv"
   ]
  },
  {
   "cell_type": "markdown",
   "metadata": {
    "id": "CK1NbJlcow44"
   },
   "source": [
    "### Checklist\n",
    "- Imported the required packages."
   ]
  },
  {
   "cell_type": "markdown",
   "metadata": {
    "id": "BOLRp-Ydph2X"
   },
   "source": [
    "## Task 2 - Load the data"
   ]
  },
  {
   "cell_type": "markdown",
   "metadata": {
    "id": "n3LqSPrspl8b"
   },
   "source": [
    "### Description\n",
    "In this task, you will write a function that ensures that the necessary files are loaded into the environment. To index the data, you will use a unique identifier called SKU.\n",
    "\n",
    "This includes loading sales data from a CSV file, product details from JSON files, and product descriptions from text files. We recommend that you either use Jupyter Notebook or Google Colab to build and execute your code."
   ]
  },
  {
   "cell_type": "markdown",
   "metadata": {
    "id": "DiYKN_QJlRBE"
   },
   "source": [
    "Now define the *load_data()* function."
   ]
  },
  {
   "cell_type": "code",
   "execution_count": 7,
   "metadata": {
    "id": "lh8skyqy7Qb6"
   },
   "outputs": [],
   "source": [
    "def load_data(main_folder):\n",
    "    \"\"\"\n",
    "    Load product details, sales data, and product descriptions from files within the specified zip file.\n",
    "\n",
    "    Parameters:\n",
    "        main_folder (str): The path to the zip file containing the dataset.\n",
    "\n",
    "    Returns:\n",
    "        tuple: A tuple containing three dictionaries:\n",
    "            - product_details (dict): A dictionary of dictionaries where keys are product SKUs (extracted from the filenames of the JSON files)\n",
    "              and values are product details loaded from the JSON files.\n",
    "            - sales_data (dict): A dictionary where keys are product SKUs (from the CSV file) and values are lists\n",
    "              of quantities corresponding to sales data.\n",
    "            - product_descriptions (dict): A dictionary where keys are product SKUs (extracted from the filenames of the TXT files)\n",
    "              and values are product descriptions loaded from TXT files.\n",
    "    \"\"\"\n",
    "\n",
    "    sales_data = {}\n",
    "    sku = []\n",
    "    product_details = {}\n",
    "    product_descriptions = {}\n",
    "    os.chdir(main_folder)\n",
    "    items = list(os.listdir())\n",
    "    for item in items:\n",
    "        item_path = os.path.join(main_folder,item)\n",
    "        if os.path.isfile(item_path):\n",
    "            print(f\"{item} is a file.\")\n",
    "            file = open(item)\n",
    "            data = list(csv.reader(file,delimiter=','))\n",
    "            for d in range(1,len(data)):\n",
    "                sales_data[data[d][0]] = data[d][1:]\n",
    "        else:\n",
    "            if 'product_details' in item:\n",
    "                os.chdir(item_path)\n",
    "                listOfdir = list(os.listdir())\n",
    "                productDetails = []\n",
    "                for item in listOfdir:\n",
    "                    file = open(item)\n",
    "                    x = file.read()\n",
    "                    productDetails.append(json.loads(x))\n",
    "                    sku.append(item.split('_')[1].split('.')[0])\n",
    "                product_details = dict(zip(sku,productDetails))\n",
    "            elif 'product_description' in item:\n",
    "                os.chdir(item_path)\n",
    "                des = []\n",
    "                items = list(os.listdir())\n",
    "                for item in items:\n",
    "                    sku.append(item.split('_')[1].split('.')[0])\n",
    "                    file = open(item)\n",
    "                    des.append(\" \".join(file.readlines()))\n",
    "                product_descriptions = dict(zip(sku,des))\n",
    "            else:\n",
    "                print(f\"{item} does not exists\")\n",
    "            os.chdir('..')\n",
    "                \n",
    "    return product_details,sales_data,product_descriptions"
   ]
  },
  {
   "cell_type": "markdown",
   "metadata": {
    "id": "bRjwNJj67LP_"
   },
   "source": [
    "Load your data here"
   ]
  },
  {
   "cell_type": "code",
   "execution_count": 8,
   "metadata": {
    "id": "mkeH5Ba17Qmv"
   },
   "outputs": [
    {
     "name": "stdout",
     "output_type": "stream",
     "text": [
      "sales_data.csv is a file.\n"
     ]
    }
   ],
   "source": [
    "# Use this cell to load the files\n",
    "main_folder_address = r\"C:\\Users\\Gayatri Pawar\\OneDrive\\Desktop\\Om\\mainfolder\"\n",
    "product_details, sales_data, product_descriptions = load_data(main_folder_address)"
   ]
  },
  {
   "cell_type": "markdown",
   "metadata": {
    "id": "Rf3FIRGg_G2b"
   },
   "source": [
    "### Checklist\n",
    "- Defined the `load_data()` function which takes in the given keyword arguments and returns the given variables.\n",
    "- Used the `load_data()` function to load data into `sales_data`, `product_details` and `product_descriptions`.\n",
    "- `sales_data, product_details` and `product_descriptions` are of the type `dict`.\n",
    "- Items in `sales_data, product_details`, and `product_descriptions` are as follows:\n",
    "    - `sales_data` contains product SKUs mapped to lists of whole numbers representing the amount of product sold per day,\n",
    "    - `product_details` contains product SKUs mapped to dictionaries containing various details such as product name, brand, model, specifications, price, and availability, and\n",
    "    - `product_descriptions` contains product SKUs mapped to strings representing descriptions of the corresponding products."
   ]
  },
  {
   "cell_type": "markdown",
   "metadata": {
    "id": "-s3el3T2A41B"
   },
   "source": [
    "# Stage 2 - Update data\n",
    "In this stage, you will define a function `update()` to add sales data, product details, and product descriptions for a new product or update an existing product. If the product does not exist, the function will default to creating a new product. If the product exists, the function will instead update that product. You will also define some sub-functions to complete smaller tasks.\n",
    "\n",
    "You will achieve this by completing the following tasks:\n",
    "- Task 3 - Update sales data\n",
    "- Task 4 - Update product details\n",
    "- Task 5 - Update product description\n",
    "- Task 6 - Update function"
   ]
  },
  {
   "cell_type": "markdown",
   "metadata": {
    "id": "KR9w5MtF2iuy"
   },
   "source": [
    "## Task 3 - Update sales data"
   ]
  },
  {
   "cell_type": "markdown",
   "metadata": {
    "id": "3sv3srpNP0by"
   },
   "source": [
    "### Description\n",
    "In this task, you will write a function to add sales data for a new product or update sales data for an existing product given the SKU and the quantities that need to be added or updated."
   ]
  },
  {
   "cell_type": "markdown",
   "metadata": {
    "id": "yuS0kGCbP93D",
    "jp-MarkdownHeadingCollapsed": true
   },
   "source": [
    "### Requirements\n",
    "- Define a function named `update_sales_data()` that:\n",
    "  - Adds new sales data or updates existing sales data to the `sales_data` dicitionary using the SKU as a key.\n",
    "  - The function should accept the following parameters:\n",
    "    - the `sales_data` dictionary,\n",
    "    - the `sku` value, and\n",
    "    - a list called `quantities` consisting of numeric sales data.\n",
    "- The function should return:\n",
    "    - The updated `sales_data` dictionary after creating the entry for the new SKU or updating the entry for an existing SKU."
   ]
  },
  {
   "cell_type": "code",
   "execution_count": 9,
   "metadata": {
    "id": "RdPeCXd22MJ5"
   },
   "outputs": [],
   "source": [
    "def update_sales_data(sales_data, sku, quantities):\n",
    "    \"\"\"\n",
    "    Add sales data for a new product SKU or update the sales data for an existing product SKU.\n",
    "\n",
    "    Parameters:\n",
    "        sales_data (dict): The dictionary containing sales data.\n",
    "        sku (str): The product SKU.\n",
    "        quantities (list of int): List of quantities sold for each of the past 14 days.\n",
    "\n",
    "    Returns:\n",
    "        dict: The updated sales data after adding the entry for the new SKU or modifying the entry for an existing SKU.\n",
    "    \"\"\"\n",
    "\n",
    "    ### CODE HERE ###\n",
    "    sales_data[sku] = quantities\n",
    "    return sales_data"
   ]
  },
  {
   "cell_type": "markdown",
   "metadata": {
    "id": "vOvcL_J5Cn51"
   },
   "source": [
    "Check your code here."
   ]
  },
  {
   "cell_type": "code",
   "execution_count": 10,
   "metadata": {
    "id": "Uzf-TuD5CqEm"
   },
   "outputs": [
    {
     "data": {
      "text/plain": [
       "{'AISJDKFJW93NJ': ['10',\n",
       "  '12',\n",
       "  '15',\n",
       "  '18',\n",
       "  '20',\n",
       "  '22',\n",
       "  '25',\n",
       "  '28',\n",
       "  '26',\n",
       "  '30',\n",
       "  '32',\n",
       "  '29',\n",
       "  '27',\n",
       "  '24'],\n",
       " 'DJKFIEI432FIE': ['8',\n",
       "  '10',\n",
       "  '12',\n",
       "  '15',\n",
       "  '20',\n",
       "  '18',\n",
       "  '14',\n",
       "  '13',\n",
       "  '17',\n",
       "  '10',\n",
       "  '8',\n",
       "  '11',\n",
       "  '14',\n",
       "  '16'],\n",
       " 'GGOENEBJ079499': ['15',\n",
       "  '18',\n",
       "  '22',\n",
       "  '25',\n",
       "  '28',\n",
       "  '20',\n",
       "  '17',\n",
       "  '23',\n",
       "  '19',\n",
       "  '21',\n",
       "  '24',\n",
       "  '27',\n",
       "  '18',\n",
       "  '20'],\n",
       " 'HJSKNWK429DJE': ['30',\n",
       "  '32',\n",
       "  '35',\n",
       "  '38',\n",
       "  '40',\n",
       "  '42',\n",
       "  '45',\n",
       "  '48',\n",
       "  '50',\n",
       "  '52',\n",
       "  '55',\n",
       "  '53',\n",
       "  '49',\n",
       "  '47'],\n",
       " 'JFKL3940NFKLJ': ['18',\n",
       "  '20',\n",
       "  '22',\n",
       "  '25',\n",
       "  '28',\n",
       "  '30',\n",
       "  '32',\n",
       "  '35',\n",
       "  '38',\n",
       "  '36',\n",
       "  '33',\n",
       "  '29',\n",
       "  '26',\n",
       "  '24'],\n",
       " 'LKDFJ49LSDJKL': ['25',\n",
       "  '28',\n",
       "  '30',\n",
       "  '32',\n",
       "  '35',\n",
       "  '38',\n",
       "  '42',\n",
       "  '40',\n",
       "  '37',\n",
       "  '34',\n",
       "  '36',\n",
       "  '31',\n",
       "  '29',\n",
       "  '27'],\n",
       " 'MWKDI3JFK39SL': ['30',\n",
       "  '35',\n",
       "  '40',\n",
       "  '45',\n",
       "  '50',\n",
       "  '42',\n",
       "  '37',\n",
       "  '38',\n",
       "  '41',\n",
       "  '36',\n",
       "  '33',\n",
       "  '39',\n",
       "  '40',\n",
       "  '44'],\n",
       " 'NEKFJOWE9FDIW': ['12',\n",
       "  '15',\n",
       "  '18',\n",
       "  '20',\n",
       "  '22',\n",
       "  '24',\n",
       "  '21',\n",
       "  '23',\n",
       "  '25',\n",
       "  '28',\n",
       "  '30',\n",
       "  '27',\n",
       "  '26',\n",
       "  '29'],\n",
       " 'OWEJL398FWJLK': ['20',\n",
       "  '22',\n",
       "  '25',\n",
       "  '28',\n",
       "  '30',\n",
       "  '32',\n",
       "  '35',\n",
       "  '38',\n",
       "  '36',\n",
       "  '33',\n",
       "  '29',\n",
       "  '26',\n",
       "  '24',\n",
       "  '27'],\n",
       " 'XPLFJW2490XJN': ['5',\n",
       "  '8',\n",
       "  '9',\n",
       "  '12',\n",
       "  '15',\n",
       "  '10',\n",
       "  '14',\n",
       "  '16',\n",
       "  '20',\n",
       "  '18',\n",
       "  '22',\n",
       "  '25',\n",
       "  '19',\n",
       "  '21'],\n",
       " 'ZOWCRL1411TML': [13, 22, 21, 20, 19, 17, 26, 29, 26, 25, 21, 22, 28, 25]}"
      ]
     },
     "execution_count": 10,
     "metadata": {},
     "output_type": "execute_result"
    }
   ],
   "source": [
    "sku = 'ZOWCRL1411TML'\n",
    "quantities = [13,22,21,20,19,17,26,29,26,25,21,22,28,25]\n",
    "\n",
    "sales_data = update_sales_data(sales_data,sku,quantities)\n",
    "sales_data"
   ]
  },
  {
   "cell_type": "markdown",
   "metadata": {
    "id": "iJ1PeYvAP9nI"
   },
   "source": [
    "### Checklist\n",
    "- Function `update_sales_data()` defined.\n",
    "- Modified the `sales_data` dictionary to reflect the newly added or updated product.\n",
    "- Updated `sales_data` dictionary returned."
   ]
  },
  {
   "cell_type": "markdown",
   "metadata": {
    "id": "276dzYC32PIS"
   },
   "source": [
    "## Task 4 - Update product details"
   ]
  },
  {
   "cell_type": "markdown",
   "metadata": {
    "id": "-I8sKosLT5sl"
   },
   "source": [
    "### Description\n",
    "In this task, you will write a function to add product details for a new product or update product details for an existing product using the product SKU."
   ]
  },
  {
   "cell_type": "markdown",
   "metadata": {
    "id": "OkfZCY48T5ss"
   },
   "source": [
    "### Requirements\n",
    "- Define a function named `update_product_details()` that adds new product details to or updates existing product details in the `product_details` dictionary using the SKU as the key.\n",
    "- The function should accept three parameters:\n",
    "  - the `product_details` dictionary,\n",
    "  - the `sku` value, and\n",
    "  - a dictionary called `product_info` containing the details of the product, such as product name, brand, model, specifications, price, and availability.\n",
    "- The function adds the `product_info` dictionary to the `product_details` dictionary with the provided SKU as the key if the SKU does not exist, or updates the existing entry if it does.\n",
    "- Return the updated `product_details` dictionary."
   ]
  },
  {
   "cell_type": "code",
   "execution_count": 11,
   "metadata": {
    "id": "uiOO_eNr2PkA"
   },
   "outputs": [],
   "source": [
    "def update_product_details(product_details, sku, product_info):\n",
    "    \"\"\"\n",
    "    Create a new product/update an existing product details entry in the product details dictionary using the provided product information.\n",
    "\n",
    "    Parameters:\n",
    "        product_details (dict): The dictionary containing product details.\n",
    "        sku (str): The product SKU.\n",
    "        product_info (dict): A dictionary containing the details of the product, such as product name, brand, model, specifications, price, and availability.\n",
    "\n",
    "    Returns:\n",
    "        dict: The updated product details with the new or updated product entry.\n",
    "    \"\"\"\n",
    "\n",
    "    product_details[sku] = product_info\n",
    "    return product_details"
   ]
  },
  {
   "cell_type": "markdown",
   "metadata": {
    "id": "cpYk9yK1Cq5H"
   },
   "source": [
    "Check your code here."
   ]
  },
  {
   "cell_type": "code",
   "execution_count": 12,
   "metadata": {
    "id": "6ljskEWSCrQq"
   },
   "outputs": [
    {
     "data": {
      "text/plain": [
       "{'AISJDKFJW93NJ': {'product_name': 'Wall Art Print',\n",
       "  'brand': 'ArtCraft',\n",
       "  'model': 'NatureCanvas-1001',\n",
       "  'specifications': 'Canvas print, Ready to hang',\n",
       "  'price': '$49.99',\n",
       "  'availability': 'In stock'},\n",
       " 'DJKFIEI432FIE': {'product_name': \"Men's Running Shoes\",\n",
       "  'brand': 'RunFit',\n",
       "  'model': 'SpeedX-500',\n",
       "  'specifications': 'Size 10, Lightweight design, Breathable material',\n",
       "  'price': '$79.99',\n",
       "  'availability': 'In stock'},\n",
       " 'GGOENEBJ079499': {'product_name': 'Smartphone',\n",
       "  'brand': 'XYZ Electronics',\n",
       "  'model': 'ABC-2000',\n",
       "  'specifications': '6.5-inch display, 128GB storage, 16MP camera',\n",
       "  'price': '$499.99',\n",
       "  'availability': 'In stock'},\n",
       " 'HJSKNWK429DJE': {'product_name': 'Wireless Earbuds',\n",
       "  'brand': 'SoundSync',\n",
       "  'model': 'TunePro-2022',\n",
       "  'specifications': 'Bluetooth 5.0, 20 hours battery life, Touch controls',\n",
       "  'price': '$89.99',\n",
       "  'availability': 'In stock'},\n",
       " 'JFKL3940NFKLJ': {'product_name': 'Resistance Bands Set',\n",
       "  'brand': 'FitFlex',\n",
       "  'model': 'StrengthPro-300',\n",
       "  'specifications': '5 bands, Varying resistance levels, Portable',\n",
       "  'price': '$34.99',\n",
       "  'availability': 'In stock'},\n",
       " 'LKDFJ49LSDJKL': {'product_name': 'Anti-Aging Face Cream',\n",
       "  'brand': 'GlowBeauty',\n",
       "  'model': 'AgeDefy-300',\n",
       "  'specifications': 'Natural ingredients, Hydrating formula',\n",
       "  'price': '$39.99',\n",
       "  'availability': 'In stock'},\n",
       " 'MWKDI3JFK39SL': {'product_name': 'Fictional Novel',\n",
       "  'brand': 'BestBooks',\n",
       "  'model': None,\n",
       "  'specifications': 'Paperback, 300 pages',\n",
       "  'price': '$14.99',\n",
       "  'availability': 'In stock'},\n",
       " 'NEKFJOWE9FDIW': {'product_name': 'Board Game',\n",
       "  'brand': 'FamilyFun',\n",
       "  'model': 'GameNight-2022',\n",
       "  'specifications': '2-6 players, Ages 8 and up',\n",
       "  'price': '$29.99',\n",
       "  'availability': 'In stock'},\n",
       " 'OWEJL398FWJLK': {'product_name': 'Yoga Mat',\n",
       "  'brand': 'ZenFitness',\n",
       "  'model': 'EcoMat-500',\n",
       "  'specifications': 'Non-slip, 6mm thickness, Eco-friendly material',\n",
       "  'price': '$19.99',\n",
       "  'availability': 'In stock'},\n",
       " 'XPLFJW2490XJN': {'product_name': 'Robot Vacuum Cleaner',\n",
       "  'brand': 'CleanTech',\n",
       "  'model': 'AutoSweep-9000',\n",
       "  'specifications': 'Smart navigation, HEPA filter, 90 minutes runtime',\n",
       "  'price': '$249.99',\n",
       "  'availability': 'In stock'},\n",
       " 'ZOWCRL1411TML': {'product_name': 'Modern Abstract Sculpture',\n",
       "  'brand': 'SculptIt',\n",
       "  'model': 'AbstractForm-2003',\n",
       "  'specifications': 'Metal sculpture, 18 inches tall, Contemporary design',\n",
       "  'price': '$79.99',\n",
       "  'availability': 'In stock'}}"
      ]
     },
     "execution_count": 12,
     "metadata": {},
     "output_type": "execute_result"
    }
   ],
   "source": [
    "sku = 'ZOWCRL1411TML'\n",
    "new_product_details = {\n",
    "    \"product_name\": \"Modern Abstract Sculpture\",\n",
    "    \"brand\": \"SculptIt\",\n",
    "    \"model\": \"AbstractForm-2003\",\n",
    "    \"specifications\": \"Metal sculpture, 18 inches tall, Contemporary design\",\n",
    "    \"price\": \"$79.99\",\n",
    "    \"availability\": \"In stock\"}\n",
    "product_details = update_product_details(product_details,sku,new_product_details)\n",
    "product_details"
   ]
  },
  {
   "cell_type": "markdown",
   "metadata": {
    "id": "UK1tyUi4UDwK"
   },
   "source": [
    "### Checklist\n",
    "- Function `update_product_details()` defined.\n",
    "- Modified the `product_details` dictionary to reflect the newly added or updated product.\n",
    "- Updated `product_details` dictionary returned."
   ]
  },
  {
   "cell_type": "markdown",
   "metadata": {
    "id": "NbsIu0TT2R4H"
   },
   "source": [
    "## Task 5 - Update product description"
   ]
  },
  {
   "cell_type": "markdown",
   "metadata": {
    "id": "eLsJVtWtT6Wn"
   },
   "source": [
    "### Description\n",
    "In this task, you will write a function to add a product description for the new product using its product SKU."
   ]
  },
  {
   "cell_type": "markdown",
   "metadata": {
    "id": "ZYE0bb3bT6Wn"
   },
   "source": [
    "### Requirements\n",
    "- Define a function named `update_product_description()` that adds a new product description to or updates an existing product description in the `product_descriptions` dictionary using the SKU as the key.\n",
    "- The function should accept three parameters:\n",
    "  - the `product_descriptions` dictionary,\n",
    "  - the `sku` value, and\n",
    "  - the `description`, a string containing the description of the product.\n",
    "- The function adds the new product description to the `product_descriptions` dictionary with the provided SKU as the key if the SKU does not exist, or updates the existing entry if it does.\n",
    "- Return the updated `product_descriptions` dictionary."
   ]
  },
  {
   "cell_type": "code",
   "execution_count": 13,
   "metadata": {
    "id": "gto9F0P82SIv"
   },
   "outputs": [],
   "source": [
    "def update_product_description(product_descriptions, sku, description):\n",
    "    \"\"\"\n",
    "    Adds a new product/updates an existing product description to the product descriptions dictionary using the provided SKU as the key.\n",
    "\n",
    "    Parameters:\n",
    "        product_descriptions (dict): The dictionary containing existing product descriptions.\n",
    "        sku (str): The product SKU.\n",
    "        description (str): The description of the product.\n",
    "\n",
    "    Returns:\n",
    "        dict: The updated product descriptions dictionary with the new or updated product description.\n",
    "    \"\"\"\n",
    "\n",
    "    product_descriptions[sku] = description\n",
    "    return product_descriptions"
   ]
  },
  {
   "cell_type": "markdown",
   "metadata": {
    "id": "pDn1TCSLCr_R"
   },
   "source": [
    "Check your code here."
   ]
  },
  {
   "cell_type": "code",
   "execution_count": 14,
   "metadata": {
    "id": "4rm960DECsUF"
   },
   "outputs": [
    {
     "data": {
      "text/plain": [
       "{'AISJDKFJW93NJ': \"Transform your living space with ArtCraft's NatureCanvas-1001 Wall Art Print.\\n This canvas print, ready to hang, brings the beauty of nature into your home.\\n With dimensions of 16 x 20 inches and a 4.6/5 stars rating, it's a stunning addition to your decor, creating a focal point that captures attention and sparks conversation.\",\n",
       " 'DJKFIEI432FIE': \"Elevate your running experience with the RunFit SpeedX-500 Men's Running Shoes.\\n Designed for performance, these shoes feature a lightweight design, breathable material, and are available in vibrant Red, Blue, and classic Black.\\n Whether you're a seasoned runner or just starting, these shoes provide comfort and support for every stride, ensuring you reach new milestones effortlessly.\",\n",
       " 'GGOENEBJ079499': 'Dive into the future with the XYZ Electronics Smartphone, model ABC-2000.\\n Boasting a 6.5-inch display, 128GB storage, and a 16MP camera, this powerful device redefines the smartphone experience.\\n With a sleek design and available in Black, Silver, and Blue, it combines cutting-edge technology with style, ensuring you stay connected in the most sophisticated way possible.',\n",
       " 'HJSKNWK429DJE': \"Immerse yourself in superior audio quality with SoundSync's TunePro-2022 Wireless Earbuds.\\n Featuring Bluetooth 5.0, 20 hours of battery life, and touch controls, these earbuds deliver a seamless and immersive listening experience.\\n Available in Black and White, they combine style with functionality for music lovers on the go. \\n With a 4.7/5 stars rating, they stand out as a top choice in the realm of wireless audio.\",\n",
       " 'JFKL3940NFKLJ': \"Embrace versatility in your workouts with FitFlex's StrengthPro-300 Resistance Bands Set.\\n With 5 bands offering varying resistance levels and portability, this set is your go-to for effective strength training.\\n Available in Red, Yellow, and Blue, it caters to different fitness levels and adds a dynamic dimension to your exercise routine.\",\n",
       " 'LKDFJ49LSDJKL': \"Rediscover youthful radiance with GlowBeauty's AgeDefy-300 Anti-Aging Face Cream.\\n Formulated with natural ingredients and a hydrating formula, this skincare essential rejuvenates and nourishes your skin, leaving you with a vibrant and refreshed complexion.\\n With a stellar 4.7/5 stars rating, it's a must-have for those embracing the journey to ageless beauty.\",\n",
       " 'MWKDI3JFK39SL': \"Immerse yourself in the world of storytelling with BestBooks' Fictional Novel.\\n This paperback, spanning 300 pages, promises a captivating journey through the pages of an engaging narrative.\\n Ideal for avid readers seeking an escape, this novel, with a 4.6/5 stars rating, is a testament to its ability to weave a compelling tale that keeps you hooked until the last page.\",\n",
       " 'NEKFJOWE9FDIW': \"Unleash the fun with FamilyFun's GameNight-2022 Board Game.\\n Designed for 2-6 players and suitable for ages 8 and up, this exciting game promises laughter and bonding moments for the entire family.\\n With a 4.4/5 stars rating, it's a testament to its ability to turn any ordinary night into an extraordinary game night filled with friendly competition and shared joy.\",\n",
       " 'OWEJL398FWJLK': \"Elevate your yoga practice with ZenFitness' EcoMat-500 Yoga Mat.\\n Featuring a non-slip surface, 6mm thickness, and eco-friendly materials, this high-quality mat provides the perfect foundation for your workouts.\\n Available in Purple, Green, and Blue, it not only enhances your comfort but also adds a touch of serenity to your exercise routine.\",\n",
       " 'XPLFJW2490XJN': 'Introducing the CleanTech AutoSweep-9000 Robot Vacuum Cleaner â€“ your smart companion for automated cleaning.\\n With smart navigation, a HEPA filter, and a runtime of 90 minutes, this efficient device takes care of your cleaning needs.\\n Available in White and Silver, it blends seamlessly into your home, making cleanliness a hassle-free experience.',\n",
       " 'ZOWCRL1411TML': \"Elevate your interior design with SculptIt's AbstractForm-2003 Modern Abstract Sculpture.\\nCrafted from premium metal, this contemporary piece stands 18 inches tall, making it a perfect addition to any room.With a sleek and artistic design, it adds a sophisticated touch to your decor.\\nHighly rated at 4.8/5 stars, this sculpture is a captivating conversation starter for art enthusiasts.\"}"
      ]
     },
     "execution_count": 14,
     "metadata": {},
     "output_type": "execute_result"
    }
   ],
   "source": [
    "sku = 'ZOWCRL1411TML'\n",
    "new_product_description = \"Elevate your interior design with SculptIt's AbstractForm-2003 Modern Abstract Sculpture.\\nCrafted from premium metal, this contemporary piece stands 18 inches tall, making it a perfect addition to any room.With a sleek and artistic design, it adds a sophisticated touch to your decor.\\nHighly rated at 4.8/5 stars, this sculpture is a captivating conversation starter for art enthusiasts.\"\n",
    "product_descriptions = update_product_description(product_descriptions,sku,new_product_description)\n",
    "product_descriptions"
   ]
  },
  {
   "cell_type": "markdown",
   "metadata": {
    "id": "HxVoqK32UEpS"
   },
   "source": [
    "### Checklist\n",
    "- Function `update_product_description()` defined\n",
    "- Modified `product_descriptions` dictionary to reflect the newly added or updated description.\n",
    "- Updated `product_descriptions` dictionary returned"
   ]
  },
  {
   "cell_type": "markdown",
   "metadata": {
    "id": "R5N6bVo82VF3"
   },
   "source": [
    "## Task 6 - Update function"
   ]
  },
  {
   "cell_type": "markdown",
   "metadata": {
    "id": "a8ACLR0kT65r"
   },
   "source": [
    "### Description\n",
    "In this task, you will write a function that combines the functionalities of adding sales data, product details, and product description for a new product SKU, or updating these for an existing product SKU."
   ]
  },
  {
   "cell_type": "markdown",
   "metadata": {
    "id": "GLPOHSC5T65r"
   },
   "source": [
    "### Requirements\n",
    "- Define a function named `update()` that collects comprehensive information about a new or existing product from the user, validates the input, and modifies the respective dictionaries with product details, sales data, and product descriptions to reflect the addition or update of the provided product.\n",
    "- The function should accept three parameters:\n",
    "  - `product_details`: A dictionary containing product details. Each entry maps an SKU to its corresponding product details.\n",
    "  - `sales_data`: A dictionary containing sales data. Each entry maps an SKU to a list of sales quantities for the last 14 days.\n",
    "  - `product_descriptions`: A dictionary containing product descriptions. Each entry maps an SKU to its corresponding textual description.\n",
    "- The function performs several operations:\n",
    "  - Prompts the user to input the SKU, which must be exactly 13 characters long. If the SKU does not meet this requirement, print an error message and terminate the function without updating any dictionaries.\n",
    "  - Prompts the user to enter sales data for the last 14 days, which must consist of exactly 14 whole numbers separated by spaces. If the input does not meet this criterion, print an error message and terminate the function without updating any dictionaries.\n",
    "  - Collects product details from the user, including name, brand, model, specifications, price, and availability. These inputs are required but not subject to specific validation criteria for this function.\n",
    "  - Prompts the user for a product description, which is also required for successful product registration.\n",
    "- If all inputs are validated successfully, the function updates the `product_details`, `sales_data`, and `product_descriptions` dictionaries with the provided product information and prints a success message.\n",
    "- Returns a tuple containing the updated `product_details`, `sales_data`, and `product_descriptions` dictionaries in that order.\n",
    "- The function is designed for use when a new product is to be added to the system or when an existing product in the system needs to be updated, and requires the caller to pass the current state of the `product_details`, `sales_data`, and `product_descriptions` dictionaries.\n"
   ]
  },
  {
   "cell_type": "code",
   "execution_count": 15,
   "metadata": {
    "id": "-nqyMs8IPhnR"
   },
   "outputs": [],
   "source": [
    "def update(product_details, sales_data, product_descriptions):\n",
    "    \"\"\"\n",
    "    Collects comprehensive information about a new or existing product from the user, validates the input, and updates the respective dictionaries with product details, sales data, and descriptions.\n",
    "\n",
    "    This function performs a series of prompts to the user to input the SKU, sales data for the last 14 days, product details (including name, brand, model, specifications, price, and availability), and a product description. Each input is validated for specific criteria:\n",
    "\n",
    "    - The SKU must be exactly 13 characters long.\n",
    "    - Sales data must consist of exactly 14 whole numbers, representing sales for the last 14 days.\n",
    "    - Product details and description inputs are collected without specific validation but are required for successful product registration.\n",
    "\n",
    "    If any validation fails, the function prints an error message and terminates without updating any of the dictionaries, ensuring data integrity and consistency across product records.\n",
    "\n",
    "    Parameters:\n",
    "        product_details (dict): A dictionary containing existing product details. Each entry maps an SKU to its corresponding product details.\n",
    "        sales_data (dict): A dictionary containing sales data. Each entry maps an SKU to a list of sales quantities for the last 14 days.\n",
    "        product_descriptions (dict): A dictionary containing product descriptions. Each entry maps an SKU to its corresponding textual description.\n",
    "\n",
    "    Returns:\n",
    "        tuple: A tuple containing the updated dictionaries (product_details, sales_data, product_descriptions) in that order.\n",
    "\n",
    "    Usage:\n",
    "        The function is designed to be called when a new product is to be added to the system or an existing one in the system is to be updated. It requires the caller to pass the current state of the product_details, sales_data, and product_descriptions dictionaries, and returns their updated states.\n",
    "    \"\"\"\n",
    "\n",
    "    product_sku = input(\"Enter product SKU (must be 13 characters long): \")\n",
    "\n",
    "    if len(product_sku) != 13:\n",
    "        print(\"Error : The SKU must be exactly 13 characters long. No changes Made\")\n",
    "        return product_details, sales_data, product_descriptions\n",
    "\n",
    "    sales_input = input(\"Enter the sales quantities for the past 14 days (14 whole numbers separated by spaces): \")\n",
    "\n",
    "    sales_quantities = sales_input.split()\n",
    "\n",
    "    if len(sales_quantities) != 14 or not all(item.isdigit() for item in sales_quantities):\n",
    "        print(\"Error: You must enter exactly 14 whole numbers. No changes made.\")\n",
    "        return product_details, sales_data, product_descriptions\n",
    "\n",
    "    sales_quantities = [int(num) for num in sales_quantities]\n",
    "\n",
    "    new_product_detail = {\n",
    "    \"product_name\" : input(\"Enter Product Name: \"),\n",
    "    \"brand\" : input(\"Enter Brand Name: \"),\n",
    "    \"model\" : input(\"Enter Model: \"),\n",
    "    \"specification\" : input(\"Enter Specifications: \"),\n",
    "    \"price\" : input(\"Enter the price: \"),\n",
    "    \"availability\" : input(\"Enter the Availability(For example In stock or Out of stock): \")\n",
    "    }\n",
    "\n",
    "    product_description = input(\"Enter the product description: \")\n",
    "    \n",
    "    update_product_details(product_details,product_sku,new_product_detail)\n",
    "    update_sales_data(sales_data,product_sku,sales_quantities)\n",
    "    update_product_description(product_descriptions,product_sku,product_description)\n",
    "    \n",
    "    return product_details, sales_data, product_descriptions"
   ]
  },
  {
   "cell_type": "markdown",
   "metadata": {
    "id": "LEyahKVZCtpR"
   },
   "source": [
    "Check your code here."
   ]
  },
  {
   "cell_type": "code",
   "execution_count": 25,
   "metadata": {
    "id": "IxJZUWfX9Rgs",
    "scrolled": true
   },
   "outputs": [
    {
     "ename": "KeyboardInterrupt",
     "evalue": "Interrupted by user",
     "output_type": "error",
     "traceback": [
      "\u001b[1;31m---------------------------------------------------------------------------\u001b[0m",
      "\u001b[1;31mKeyboardInterrupt\u001b[0m                         Traceback (most recent call last)",
      "Cell \u001b[1;32mIn[25], line 1\u001b[0m\n\u001b[1;32m----> 1\u001b[0m product_details, sales_data, product_descriptions \u001b[38;5;241m=\u001b[39m \u001b[43mupdate\u001b[49m\u001b[43m(\u001b[49m\u001b[43mproduct_details\u001b[49m\u001b[43m,\u001b[49m\u001b[43m \u001b[49m\u001b[43msales_data\u001b[49m\u001b[43m,\u001b[49m\u001b[43m \u001b[49m\u001b[43mproduct_descriptions\u001b[49m\u001b[43m)\u001b[49m\n",
      "Cell \u001b[1;32mIn[15], line 26\u001b[0m, in \u001b[0;36mupdate\u001b[1;34m(product_details, sales_data, product_descriptions)\u001b[0m\n\u001b[0;32m      2\u001b[0m \u001b[38;5;250m\u001b[39m\u001b[38;5;124;03m\"\"\"\u001b[39;00m\n\u001b[0;32m      3\u001b[0m \u001b[38;5;124;03mCollects comprehensive information about a new or existing product from the user, validates the input, and updates the respective dictionaries with product details, sales data, and descriptions.\u001b[39;00m\n\u001b[0;32m      4\u001b[0m \n\u001b[1;32m   (...)\u001b[0m\n\u001b[0;32m     22\u001b[0m \u001b[38;5;124;03m    The function is designed to be called when a new product is to be added to the system or an existing one in the system is to be updated. It requires the caller to pass the current state of the product_details, sales_data, and product_descriptions dictionaries, and returns their updated states.\u001b[39;00m\n\u001b[0;32m     23\u001b[0m \u001b[38;5;124;03m\"\"\"\u001b[39;00m\n\u001b[0;32m     25\u001b[0m \u001b[38;5;66;03m### CODE HERE ###\u001b[39;00m\n\u001b[1;32m---> 26\u001b[0m product_sku \u001b[38;5;241m=\u001b[39m \u001b[38;5;28;43minput\u001b[39;49m\u001b[43m(\u001b[49m\u001b[38;5;124;43m\"\u001b[39;49m\u001b[38;5;124;43mEnter product SKU (must be 13 characters long): \u001b[39;49m\u001b[38;5;124;43m\"\u001b[39;49m\u001b[43m)\u001b[49m\n\u001b[0;32m     28\u001b[0m \u001b[38;5;28;01mif\u001b[39;00m \u001b[38;5;28mlen\u001b[39m(product_sku) \u001b[38;5;241m!=\u001b[39m \u001b[38;5;241m13\u001b[39m:\n\u001b[0;32m     29\u001b[0m     \u001b[38;5;28mprint\u001b[39m(\u001b[38;5;124m\"\u001b[39m\u001b[38;5;124mError : The SKU must be exactly 13 characters long. No changes Made\u001b[39m\u001b[38;5;124m\"\u001b[39m)\n",
      "File \u001b[1;32m~\\AppData\\Roaming\\Python\\Python312\\site-packages\\ipykernel\\kernelbase.py:1282\u001b[0m, in \u001b[0;36mKernel.raw_input\u001b[1;34m(self, prompt)\u001b[0m\n\u001b[0;32m   1280\u001b[0m     msg \u001b[38;5;241m=\u001b[39m \u001b[38;5;124m\"\u001b[39m\u001b[38;5;124mraw_input was called, but this frontend does not support input requests.\u001b[39m\u001b[38;5;124m\"\u001b[39m\n\u001b[0;32m   1281\u001b[0m     \u001b[38;5;28;01mraise\u001b[39;00m StdinNotImplementedError(msg)\n\u001b[1;32m-> 1282\u001b[0m \u001b[38;5;28;01mreturn\u001b[39;00m \u001b[38;5;28;43mself\u001b[39;49m\u001b[38;5;241;43m.\u001b[39;49m\u001b[43m_input_request\u001b[49m\u001b[43m(\u001b[49m\n\u001b[0;32m   1283\u001b[0m \u001b[43m    \u001b[49m\u001b[38;5;28;43mstr\u001b[39;49m\u001b[43m(\u001b[49m\u001b[43mprompt\u001b[49m\u001b[43m)\u001b[49m\u001b[43m,\u001b[49m\n\u001b[0;32m   1284\u001b[0m \u001b[43m    \u001b[49m\u001b[38;5;28;43mself\u001b[39;49m\u001b[38;5;241;43m.\u001b[39;49m\u001b[43m_parent_ident\u001b[49m\u001b[43m[\u001b[49m\u001b[38;5;124;43m\"\u001b[39;49m\u001b[38;5;124;43mshell\u001b[39;49m\u001b[38;5;124;43m\"\u001b[39;49m\u001b[43m]\u001b[49m\u001b[43m,\u001b[49m\n\u001b[0;32m   1285\u001b[0m \u001b[43m    \u001b[49m\u001b[38;5;28;43mself\u001b[39;49m\u001b[38;5;241;43m.\u001b[39;49m\u001b[43mget_parent\u001b[49m\u001b[43m(\u001b[49m\u001b[38;5;124;43m\"\u001b[39;49m\u001b[38;5;124;43mshell\u001b[39;49m\u001b[38;5;124;43m\"\u001b[39;49m\u001b[43m)\u001b[49m\u001b[43m,\u001b[49m\n\u001b[0;32m   1286\u001b[0m \u001b[43m    \u001b[49m\u001b[43mpassword\u001b[49m\u001b[38;5;241;43m=\u001b[39;49m\u001b[38;5;28;43;01mFalse\u001b[39;49;00m\u001b[43m,\u001b[49m\n\u001b[0;32m   1287\u001b[0m \u001b[43m\u001b[49m\u001b[43m)\u001b[49m\n",
      "File \u001b[1;32m~\\AppData\\Roaming\\Python\\Python312\\site-packages\\ipykernel\\kernelbase.py:1325\u001b[0m, in \u001b[0;36mKernel._input_request\u001b[1;34m(self, prompt, ident, parent, password)\u001b[0m\n\u001b[0;32m   1322\u001b[0m \u001b[38;5;28;01mexcept\u001b[39;00m \u001b[38;5;167;01mKeyboardInterrupt\u001b[39;00m:\n\u001b[0;32m   1323\u001b[0m     \u001b[38;5;66;03m# re-raise KeyboardInterrupt, to truncate traceback\u001b[39;00m\n\u001b[0;32m   1324\u001b[0m     msg \u001b[38;5;241m=\u001b[39m \u001b[38;5;124m\"\u001b[39m\u001b[38;5;124mInterrupted by user\u001b[39m\u001b[38;5;124m\"\u001b[39m\n\u001b[1;32m-> 1325\u001b[0m     \u001b[38;5;28;01mraise\u001b[39;00m \u001b[38;5;167;01mKeyboardInterrupt\u001b[39;00m(msg) \u001b[38;5;28;01mfrom\u001b[39;00m \u001b[38;5;28;01mNone\u001b[39;00m\n\u001b[0;32m   1326\u001b[0m \u001b[38;5;28;01mexcept\u001b[39;00m \u001b[38;5;167;01mException\u001b[39;00m:\n\u001b[0;32m   1327\u001b[0m     \u001b[38;5;28mself\u001b[39m\u001b[38;5;241m.\u001b[39mlog\u001b[38;5;241m.\u001b[39mwarning(\u001b[38;5;124m\"\u001b[39m\u001b[38;5;124mInvalid Message:\u001b[39m\u001b[38;5;124m\"\u001b[39m, exc_info\u001b[38;5;241m=\u001b[39m\u001b[38;5;28;01mTrue\u001b[39;00m)\n",
      "\u001b[1;31mKeyboardInterrupt\u001b[0m: Interrupted by user"
     ]
    }
   ],
   "source": [
    "product_details, sales_data, product_descriptions = update(product_details, sales_data, product_descriptions)"
   ]
  },
  {
   "cell_type": "markdown",
   "metadata": {
    "id": "aC5XgGg0UF4n"
   },
   "source": [
    "### Checklist\n",
    "- Prompt for and validate SKU length (13 characters).\n",
    "- Collected sales data for 14 days and ensure it includes exactly 14 whole numbers.\n",
    "- Gathered product name, brand, model, specifications, price, and availability.\n",
    "- Collected a textual description of the product.\n",
    "- Updated `product_details`, `sales_data`, and `product_descriptions` dictionaries after successful data validation.\n",
    "- Returned the updated dictionaries in the correct order.\n",
    "- Performed all validations before dictionary updates to maintain data integrity."
   ]
  },
  {
   "cell_type": "markdown",
   "metadata": {
    "id": "q8WDGtEcj_Xn"
   },
   "source": [
    "# Stage 3 - Save data to disk\n",
    "In the this stage, learners are tasked with creating a `dump_data()` function which will allow the newly modified files to be saved in their corresponding file formats: CSV for sales data, JSON for product details, and plain text (.txt) for product descriptions.\n",
    "\n",
    "You will achieve this by completing the following task:\n",
    "- Task 7 - Save data to disk"
   ]
  },
  {
   "cell_type": "markdown",
   "metadata": {
    "id": "ccFlC9OGdejQ"
   },
   "source": [
    "## Task 7 - Save data to disk"
   ]
  },
  {
   "cell_type": "markdown",
   "metadata": {
    "id": "UqDs8HZ7dYZx"
   },
   "source": [
    "### Description\n",
    "In this task, learners are tasked with implementing a Python function named `dump_data()` that automates the process of persisting sales data, product details, and product descriptions into structured files within a specified directory. The function should efficiently organize and dump each type of data into its corresponding file format: CSV for sales data, JSON for product details, and plain text for product descriptions. This exercise challenges learners to apply file I/O operations, directory management, and data serialization techniques in Python, ensuring they gain practical experience with data persistence, manipulation, and organization on the filesystem."
   ]
  },
  {
   "cell_type": "markdown",
   "metadata": {
    "id": "ffUjhTwTdYRw"
   },
   "source": [
    "### Requirements\n",
    "- Define a function named `dump_data()` that dumps product details, sales data, and product descriptions into files within a specified main folder.\n",
    "- The function should accept four parameters:\n",
    "  - `sales_data`: A dictionary containing sales data, with SKU as keys and a list of sales quantities for the last 14 days as values.\n",
    "  - `product_details`: A dictionary containing product details, with SKU as keys and details as values. Details include attributes like name, brand, model, specifications, price, and availability.\n",
    "  - `product_descriptions`: A dictionary containing product descriptions, with SKU as keys and the textual description of the product as values.\n",
    "  - `main_folder`: A string representing the location of the main folder, which should contain *product_details* and *product_descriptions* subfolders.\n",
    "- The function performs the following operations:\n",
    "  - Dumps the `sales_data` into a CSV file named *sales_data.csv* located in the *main_folder*. Each row in the CSV file represents the sales data for a product, with fields for the SKU and sales quantities for each of the 14 days.\n",
    "  - Dumps each entry in `product_details` into a separate JSON file within the *product_details* subfolder of the *main_folder*. Each file is named after the SKU of the product and contains the details of that product in JSON format.\n",
    "  - Dumps each product description from `product_descriptions` into a separate TXT file within the *product_descriptions* subfolder of the *main_folder*. Each file is named after the SKU of the product and contains the textual description of that product.\n",
    "- Prior to dumping product details and descriptions, the function checks if the respective subfolders exist. If not, it creates them.\n",
    "- Usage:\n",
    "  - The function is designed to persist the current state of sales data, product details, and product descriptions to the filesystem, allowing for data backup and recovery. It organizes the persisted data into a structured directory and file system based on the specified *main_folder* path.\n"
   ]
  },
  {
   "cell_type": "code",
   "execution_count": 27,
   "metadata": {
    "id": "PMuHRcMELNoq"
   },
   "outputs": [],
   "source": [
    "def dump_data(sales_data, product_details, product_descriptions, main_folder):\n",
    "    \"\"\"\n",
    "    Dump product details, sales data, and product descriptions to files.\n",
    "\n",
    "    Parameters:\n",
    "        sales_data (dict): The dictionary containing sales data.\n",
    "        product_details (dict): The dictionary containing product details.\n",
    "        product_descriptions (dict): The dictionary containing product descriptions.\n",
    "        main_folder (str): The location of the main folder containing product_details and product_descriptions folders.\n",
    "    \"\"\"\n",
    "\n",
    "    ### CODE HERE ###\n",
    "    os.chdir(main_folder)\n",
    "    items = list(os.listdir())\n",
    "    for item in items:\n",
    "        item_path = os.path.join(main_folder,item)\n",
    "        if os.path.isfile(item_path):\n",
    "            sku_sales = []\n",
    "            with open(item_path, mode='r', newline='') as file:\n",
    "                reader = csv.DictReader(file)\n",
    "                for line in reader:\n",
    "                    sku_sales.append(line['Product_SKU'])\n",
    "                    skus_to_add = [sku for sku in sales_data.keys() if sku not in sku_sales]\n",
    "                    if skus_to_add:\n",
    "                        with open('item_path', mode='a+', newline='') as file:\n",
    "                            fieldnames = ['Product_SKU'] + [f\"Day {i+1}\" for i in range(14)]\n",
    "                            writer = csv.DictWriter(file, fieldnames=fieldnames)\n",
    "                            if file.tell() == 0:\n",
    "                                writer.writeheader()\n",
    "                            for sku in skus_to_add:\n",
    "                                sales = sales_data[sku]\n",
    "                                writer.writerow({'Product_SKU': sku, **{f\"Day {i+1}\": sales[i] for i in range(14)}})\n",
    "        else:\n",
    "            if 'product_details' in item:\n",
    "                os.chdir(item_path)\n",
    "                list_details = os.listdir()\n",
    "                skus_details = []\n",
    "                for details in list_details:\n",
    "                    skus_details.append(details.split('_')[1].split('.')[0])\n",
    "                    skus_to_add = [sku for sku in product_details.keys() if sku not in skus_details]\n",
    "                    for sku in skus_to_add:\n",
    "                        with open(f\"details_{sku}.json\",'w') as file:\n",
    "                            json.dump(product_details[sku],file,indent=4)\n",
    "            elif 'product_descriptions' in item:\n",
    "                os.chdir(item_path)\n",
    "                skus_desc = []\n",
    "                list_desc = os.listdir()\n",
    "                for desc in list_desc:\n",
    "                    skus_desc.append(desc.split('_')[1].split('.')[0])\n",
    "                    skus_to_add = [sku for sku in sales_data.keys() if sku not in skus_desc]\n",
    "                    for sku in skus_to_add:\n",
    "                        with open(f\"description_{sku}.txt\",'w') as file:\n",
    "                            file.write(product_descriptions[sku])\n",
    "            else:\n",
    "                os.chdir(\"..\")\n",
    "    print(\"Data dumped successfully!\")"
   ]
  },
  {
   "cell_type": "markdown",
   "metadata": {
    "id": "Q0IRwQvIDAaB"
   },
   "source": [
    "Check your function here."
   ]
  },
  {
   "cell_type": "code",
   "execution_count": 24,
   "metadata": {
    "id": "JvvgYdPUDBf6"
   },
   "outputs": [
    {
     "name": "stdout",
     "output_type": "stream",
     "text": [
      "Data dumped successfully!\n"
     ]
    }
   ],
   "source": [
    "dump_data(sales_data, product_details, product_descriptions, main_folder_address)"
   ]
  },
  {
   "cell_type": "markdown",
   "metadata": {
    "id": "3cjHZPLcBt4t"
   },
   "source": [
    "You will notice that *mainfolder* now has new files in the product descriptions/details subfolders, as well as new rows in *sales_data.csv* corresponding to the products that you created in stage 2, and while checking your code."
   ]
  },
  {
   "cell_type": "markdown",
   "metadata": {
    "id": "N5PVdR8mATvh"
   },
   "source": [
    "### Checklist\n",
    "- Define the `dump_data()` function with the specified parameters.\n",
    "- Saved the sales data, product details and the product description into the respective files.\n",
    "- Ensured that the folder structure remains the same for future use."
   ]
  }
 ],
 "metadata": {
  "colab": {
   "provenance": [
    {
     "file_id": "1nZdeeRtjxq9kBP0rHgzG_lfmRBDg0h4L",
     "timestamp": 1721905370155
    },
    {
     "file_id": "1VovxUeLFA__0CohfyBQ0rFCX5cOlJRX0",
     "timestamp": 1721736072038
    },
    {
     "file_id": "1hh3m1P9nz6kCPZQMqPExqMZCJWZSG_lS",
     "timestamp": 1707569095386
    }
   ]
  },
  "kernelspec": {
   "display_name": "Python 3 (ipykernel)",
   "language": "python",
   "name": "python3"
  },
  "language_info": {
   "codemirror_mode": {
    "name": "ipython",
    "version": 3
   },
   "file_extension": ".py",
   "mimetype": "text/x-python",
   "name": "python",
   "nbconvert_exporter": "python",
   "pygments_lexer": "ipython3",
   "version": "3.12.5"
  },
  "widgets": {
   "application/vnd.jupyter.widget-state+json": {
    "state": {},
    "version_major": 2,
    "version_minor": 0
   }
  }
 },
 "nbformat": 4,
 "nbformat_minor": 4
}
